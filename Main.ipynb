{
 "cells": [
  {
   "cell_type": "code",
   "execution_count": 6,
   "id": "8c69dbbf-dcf7-4319-ad08-90d22118e600",
   "metadata": {},
   "outputs": [],
   "source": [
    "from flask import Flask, request, jsonify\n",
    "from flask_cors import CORS"
   ]
  },
  {
   "cell_type": "code",
   "execution_count": 7,
   "id": "1f1d0613-3011-46aa-8c19-ee0d27b5ff14",
   "metadata": {},
   "outputs": [
    {
     "data": {
      "text/plain": [
       "<flask_cors.extension.CORS at 0x1af4d276840>"
      ]
     },
     "execution_count": 7,
     "metadata": {},
     "output_type": "execute_result"
    }
   ],
   "source": [
    "app = Flask(__name__)\n",
    "CORS(app)  # Allow frontend to access backend"
   ]
  },
  {
   "cell_type": "code",
   "execution_count": 8,
   "id": "f5e2f923-1aaf-45c7-acd2-98e1ddc89e95",
   "metadata": {},
   "outputs": [],
   "source": [
    "# Harmful ingredients list\n",
    "HARMFUL_INGREDIENTS = {\n",
    "    \"Sodium Lauryl Sulfate\", \"Sodium Laureth Sulfate\", \"Dimethicone\", \n",
    "    \"Parabens\", \"Formaldehyde\", \"Phthalates\", \"Isopropyl Alcohol\"\n",
    "}"
   ]
  },
  {
   "cell_type": "code",
   "execution_count": 9,
   "id": "8b6cf9a8-c0d2-4af9-8dc1-bc095c3f269c",
   "metadata": {},
   "outputs": [
    {
     "name": "stdout",
     "output_type": "stream",
     "text": [
      " * Serving Flask app '__main__'\n",
      " * Debug mode: on\n"
     ]
    },
    {
     "name": "stderr",
     "output_type": "stream",
     "text": [
      "WARNING: This is a development server. Do not use it in a production deployment. Use a production WSGI server instead.\n",
      " * Running on http://127.0.0.1:5000\n",
      "Press CTRL+C to quit\n",
      " * Restarting with stat\n"
     ]
    },
    {
     "ename": "SystemExit",
     "evalue": "1",
     "output_type": "error",
     "traceback": [
      "An exception has occurred, use %tb to see the full traceback.\n",
      "\u001b[1;31mSystemExit\u001b[0m\u001b[1;31m:\u001b[0m 1\n"
     ]
    },
    {
     "name": "stderr",
     "output_type": "stream",
     "text": [
      "C:\\Users\\rahma\\AppData\\Local\\Packages\\PythonSoftwareFoundation.Python.3.12_qbz5n2kfra8p0\\LocalCache\\local-packages\\Python312\\site-packages\\IPython\\core\\interactiveshell.py:3585: UserWarning: To exit: use 'exit', 'quit', or Ctrl-D.\n",
      "  warn(\"To exit: use 'exit', 'quit', or Ctrl-D.\", stacklevel=1)\n"
     ]
    }
   ],
   "source": [
    "@app.route('/check_ingredients', methods=['POST']) #from front-end\n",
    "def check_ingredients():\n",
    "    data = request.json\n",
    "    ingredients = set(data.get(\"ingredients\", []))\n",
    "    harmful_found = list(ingredients.intersection(HARMFUL_INGREDIENTS))\n",
    "    \n",
    "    return jsonify({\n",
    "        \"harmful\": harmful_found,\n",
    "        \"safe\": len(harmful_found) == 0\n",
    "    })\n",
    "\n",
    "if __name__ == '__main__':\n",
    "    app.run(debug=True)"
   ]
  },
  {
   "cell_type": "code",
   "execution_count": null,
   "id": "0843e026-3c98-4103-8ef7-f736f776030f",
   "metadata": {},
   "outputs": [],
   "source": []
  }
 ],
 "metadata": {
  "kernelspec": {
   "display_name": "ingredient",
   "language": "python",
   "name": "ingredient"
  },
  "language_info": {
   "codemirror_mode": {
    "name": "ipython",
    "version": 3
   },
   "file_extension": ".py",
   "mimetype": "text/x-python",
   "name": "python",
   "nbconvert_exporter": "python",
   "pygments_lexer": "ipython3",
   "version": "3.12.9"
  }
 },
 "nbformat": 4,
 "nbformat_minor": 5
}
